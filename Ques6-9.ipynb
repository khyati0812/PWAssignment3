{
  "nbformat": 4,
  "nbformat_minor": 0,
  "metadata": {
    "colab": {
      "provenance": [],
      "authorship_tag": "ABX9TyPicmnSwjb3Dur/CxaaUhxA",
      "include_colab_link": true
    },
    "kernelspec": {
      "name": "python3",
      "display_name": "Python 3"
    },
    "language_info": {
      "name": "python"
    }
  },
  "cells": [
    {
      "cell_type": "markdown",
      "metadata": {
        "id": "view-in-github",
        "colab_type": "text"
      },
      "source": [
        "<a href=\"https://colab.research.google.com/github/khyati0812/PWAssignment3/blob/main/Ques6-9.ipynb\" target=\"_parent\"><img src=\"https://colab.research.google.com/assets/colab-badge.svg\" alt=\"Open In Colab\"/></a>"
      ]
    },
    {
      "cell_type": "code",
      "source": [
        "s = \"aaabbbaa\"\n",
        "i = 0\n",
        "temp = \"\"\n",
        "\n",
        "while i < len(s):\n",
        "    cnt = 1\n",
        "    j = i + 1\n",
        "    while j < len(s) and s[j] == s[j - 1]:\n",
        "        j += 1\n",
        "        cnt += 1  # Increase count for consecutive characters\n",
        "    temp += s[i] + str(cnt)  # Append character and count to `temp`\n",
        "    i = j\n",
        "\n",
        "print(\"Compressed string:\", temp)\n"
      ],
      "metadata": {
        "colab": {
          "base_uri": "https://localhost:8080/"
        },
        "id": "qBTY9aYpw1lW",
        "outputId": "dc8165ec-c739-4860-a12d-af0310bd02b9"
      },
      "execution_count": 8,
      "outputs": [
        {
          "output_type": "stream",
          "name": "stdout",
          "text": [
            "Compressed string: a3b3a2\n"
          ]
        }
      ]
    },
    {
      "cell_type": "markdown",
      "source": [
        "Ques 6."
      ],
      "metadata": {
        "id": "gp2WZZG50ua7"
      }
    },
    {
      "cell_type": "markdown",
      "source": [],
      "metadata": {
        "id": "Haws928J01YF"
      }
    },
    {
      "cell_type": "markdown",
      "source": [
        "Ques 7."
      ],
      "metadata": {
        "id": "Ba9NpmBy0yPs"
      }
    },
    {
      "cell_type": "code",
      "source": [
        "temp=input(\"Enter the string: \")\n",
        "dict1={}\n",
        "fl=0\n",
        "for ch in temp:\n",
        "  if ch in dict1.keys():\n",
        "    fl=1\n",
        "    break\n",
        "  else:\n",
        "    dict1[ch]=1\n",
        "if fl:\n",
        "  print(\"There are duplicate characters as well\")\n",
        "else:\n",
        "  print(\"String has all unique characters\")"
      ],
      "metadata": {
        "colab": {
          "base_uri": "https://localhost:8080/"
        },
        "id": "d1MxlCJnzuX1",
        "outputId": "359044f4-4519-4ed4-ce20-170842fb7914"
      },
      "execution_count": 11,
      "outputs": [
        {
          "output_type": "stream",
          "name": "stdout",
          "text": [
            "Enter the string: KhyYati\n",
            "String has all unique characters\n"
          ]
        }
      ]
    },
    {
      "cell_type": "markdown",
      "source": [
        "Ques 8.\n"
      ],
      "metadata": {
        "id": "ioXvmG8G0xEx"
      }
    },
    {
      "cell_type": "code",
      "source": [
        "temp=input(\"Enter the string: \")\n",
        "newstring=temp.lower()\n",
        "print(\"Lower case: \",newstring)\n",
        "newstring=temp.upper()\n",
        "print(\"Upper case: \",newstring)"
      ],
      "metadata": {
        "colab": {
          "base_uri": "https://localhost:8080/"
        },
        "id": "xD0OLsHY1Dbd",
        "outputId": "83290964-2a1e-4bae-ac46-5c83b8fd3b80"
      },
      "execution_count": 12,
      "outputs": [
        {
          "output_type": "stream",
          "name": "stdout",
          "text": [
            "Enter the string: KHYati\n",
            "Lower case:  khyati\n",
            "Upper case:  KHYATI\n"
          ]
        }
      ]
    },
    {
      "cell_type": "markdown",
      "source": [
        "Ques 9.\n"
      ],
      "metadata": {
        "id": "GIBP0ZHO1420"
      }
    },
    {
      "cell_type": "code",
      "source": [
        "delimiter=[\",\",\"!\",\"?\"]\n",
        "s=\"HI! How are you, what's up?\"\n",
        "for d in delimiter:\n",
        "  s=\"\".join(s.split(d))\n",
        "  print(s)\n",
        "l=s.split(\" \")\n",
        "print(l)\n",
        "print(s)\n",
        "print(len(l))"
      ],
      "metadata": {
        "colab": {
          "base_uri": "https://localhost:8080/"
        },
        "id": "03ugEdqE3j98",
        "outputId": "2ba6365d-b620-4436-c894-e0995748458f"
      },
      "execution_count": 30,
      "outputs": [
        {
          "output_type": "stream",
          "name": "stdout",
          "text": [
            "HI! How are you what's up?\n",
            "HI How are you what's up?\n",
            "HI How are you what's up\n",
            "['HI', 'How', 'are', 'you', \"what's\", 'up']\n",
            "HI How are you what's up\n",
            "6\n"
          ]
        }
      ]
    }
  ]
}