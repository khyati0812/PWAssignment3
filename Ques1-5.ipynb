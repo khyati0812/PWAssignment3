{
  "nbformat": 4,
  "nbformat_minor": 0,
  "metadata": {
    "colab": {
      "provenance": [],
      "authorship_tag": "ABX9TyP9Ex4C9B8j4xTnpXf/pBIG",
      "include_colab_link": true
    },
    "kernelspec": {
      "name": "python3",
      "display_name": "Python 3"
    },
    "language_info": {
      "name": "python"
    }
  },
  "cells": [
    {
      "cell_type": "markdown",
      "metadata": {
        "id": "view-in-github",
        "colab_type": "text"
      },
      "source": [
        "<a href=\"https://colab.research.google.com/github/khyati0812/PWAssignment3/blob/main/Ques1-5.ipynb\" target=\"_parent\"><img src=\"https://colab.research.google.com/assets/colab-badge.svg\" alt=\"Open In Colab\"/></a>"
      ]
    },
    {
      "cell_type": "markdown",
      "source": [
        "Ques 1."
      ],
      "metadata": {
        "id": "StMaBHPXmt72"
      }
    },
    {
      "cell_type": "code",
      "source": [
        "s=input(\" Enter the string\")\n",
        "print(s[::-1])"
      ],
      "metadata": {
        "colab": {
          "base_uri": "https://localhost:8080/"
        },
        "id": "vlRJT-wsm18u",
        "outputId": "9a291c1c-71f5-4896-a693-0a66f6ac9773"
      },
      "execution_count": null,
      "outputs": [
        {
          "output_type": "stream",
          "name": "stdout",
          "text": [
            " Enter the singjhjk\n",
            "kjhj\n"
          ]
        }
      ]
    },
    {
      "cell_type": "markdown",
      "source": [
        "Ques 2.\n"
      ],
      "metadata": {
        "id": "Pj7odnbXm-iD"
      }
    },
    {
      "cell_type": "code",
      "source": [
        "s=input(\"Enter the string: \")\n",
        "temp=s.lower()\n",
        "vowels=['a','e','i','o','u']\n",
        "count=0\n",
        "for ch in temp:\n",
        "  if ch in vowels:\n",
        "    count+=1\n",
        "print(count)\n"
      ],
      "metadata": {
        "colab": {
          "base_uri": "https://localhost:8080/"
        },
        "id": "o0M4FyyWnF8m",
        "outputId": "87c1d176-f5b6-4689-df79-0062a9d48c8d"
      },
      "execution_count": null,
      "outputs": [
        {
          "output_type": "stream",
          "name": "stdout",
          "text": [
            "Enter the string: hhuiiiiooppp\n",
            "7\n"
          ]
        }
      ]
    },
    {
      "cell_type": "markdown",
      "source": [
        "Ques 3.\n"
      ],
      "metadata": {
        "id": "y124H_rDnyLK"
      }
    },
    {
      "cell_type": "code",
      "source": [
        "s=input(\"Enter the string: \")\n",
        "i=0\n",
        "j=len(s)-1\n",
        "isPal=True\n",
        "while i<=j:\n",
        "  if s[i]!=s[j]:\n",
        "    isPal=False\n",
        "    break\n",
        "  i+=1\n",
        "  j-=1\n",
        "if(isPal):\n",
        "  print(f\"{s} is a palindrome\")\n",
        "else:\n",
        "  print(f\"{s} is not a palindrome\")\n",
        "\n",
        "\n"
      ],
      "metadata": {
        "colab": {
          "base_uri": "https://localhost:8080/"
        },
        "id": "wBg6SB-KnzUj",
        "outputId": "35b36a18-0805-4965-b2fd-9cb25f4521fc"
      },
      "execution_count": null,
      "outputs": [
        {
          "output_type": "stream",
          "name": "stdout",
          "text": [
            "Enter the string: jjj\n",
            "jjj is a palindrome\n"
          ]
        }
      ]
    },
    {
      "cell_type": "markdown",
      "source": [
        "Ques 4."
      ],
      "metadata": {
        "id": "--1tKqa4obyS"
      }
    },
    {
      "cell_type": "code",
      "source": [
        "str1=input(\"Enter first string: \")\n",
        "str2=input(\"Enter second string: \")\n",
        "dict1={}\n",
        "for ch in str1:\n",
        "  if ch in dict1.keys():\n",
        "    value=dict1[ch]\n",
        "    dict1[ch]=value+1\n",
        "  else:\n",
        "    dict1[ch]=1\n",
        "fl=0\n",
        "for ch in str2:\n",
        "  if ch not in dict1.keys():\n",
        "    fl=1\n",
        "    break\n",
        "  else:\n",
        "    dict1[ch]-=1\n",
        "if fl:\n",
        "  print(\"Given strings are not anagrams of each other\")\n",
        "else:\n",
        "  for value in dict1.values():\n",
        "    if value!=0:\n",
        "      fl=1\n",
        "      break\n",
        "  if fl:\n",
        "    print(\"Given strings are not anagrams\")\n",
        "  else:\n",
        "    print(\"Given strings are anagrams\")"
      ],
      "metadata": {
        "colab": {
          "base_uri": "https://localhost:8080/"
        },
        "id": "UUJKVHuEoeEN",
        "outputId": "888c90f3-1290-45c0-d2b9-8f7e2a083498"
      },
      "execution_count": null,
      "outputs": [
        {
          "output_type": "stream",
          "name": "stdout",
          "text": [
            "Enter first string: KKKhyyyy\n",
            "Enter second string: Prakr\n",
            "Given strings are not anagrams of each other\n"
          ]
        }
      ]
    },
    {
      "cell_type": "markdown",
      "source": [
        "Ques 5.\n"
      ],
      "metadata": {
        "id": "fqyVg760qH2v"
      }
    },
    {
      "cell_type": "code",
      "source": [
        "#to count non overlapping substrings\n",
        "s=input(\"Enter the string: \")\n",
        "substring=input(\"Enter the substring: \")\n",
        "print(s.count(substring))"
      ],
      "metadata": {
        "colab": {
          "base_uri": "https://localhost:8080/"
        },
        "id": "i-V29nEcqLc5",
        "outputId": "b9c7bc43-37e9-4379-c1ad-706b37cfc36f"
      },
      "execution_count": null,
      "outputs": [
        {
          "output_type": "stream",
          "name": "stdout",
          "text": [
            "Enter the string: abaab\n",
            "Enter the substring: ab\n",
            "2\n"
          ]
        }
      ]
    },
    {
      "cell_type": "code",
      "source": [
        "#count overlapping substrings\n",
        "s=input(\"Enter the string:\")\n",
        "substring=input(\"Enter the substring: \")\n",
        "lengthOfSubstring=len(substring)\n",
        "count=0\n",
        "for i in range(0,len(s)):\n",
        "  temp=s[i:i+lengthOfSubstring]\n",
        "  if temp==substring:\n",
        "    count+=1\n",
        "print(count)\n",
        "\n",
        "\n"
      ],
      "metadata": {
        "colab": {
          "base_uri": "https://localhost:8080/"
        },
        "id": "tMKt3PbMq2T4",
        "outputId": "682d512c-48c8-4ac2-bd9b-586ec1dae9dd"
      },
      "execution_count": null,
      "outputs": [
        {
          "output_type": "stream",
          "name": "stdout",
          "text": [
            "Enter the string:abababa\n",
            "Enter the substring: ba\n",
            "3\n"
          ]
        }
      ]
    }
  ]
}