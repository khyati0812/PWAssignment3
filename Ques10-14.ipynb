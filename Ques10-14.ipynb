{
  "nbformat": 4,
  "nbformat_minor": 0,
  "metadata": {
    "colab": {
      "provenance": [],
      "authorship_tag": "ABX9TyPbXjZeCnx0QctomflJm1yT",
      "include_colab_link": true
    },
    "kernelspec": {
      "name": "python3",
      "display_name": "Python 3"
    },
    "language_info": {
      "name": "python"
    }
  },
  "cells": [
    {
      "cell_type": "markdown",
      "metadata": {
        "id": "view-in-github",
        "colab_type": "text"
      },
      "source": [
        "<a href=\"https://colab.research.google.com/github/khyati0812/PWAssignment3/blob/main/Ques10-14.ipynb\" target=\"_parent\"><img src=\"https://colab.research.google.com/assets/colab-badge.svg\" alt=\"Open In Colab\"/></a>"
      ]
    },
    {
      "cell_type": "markdown",
      "source": [
        "Ques 10.\n"
      ],
      "metadata": {
        "id": "RFeZyTkNq8Us"
      }
    },
    {
      "cell_type": "code",
      "source": [
        "str1=\"Hello\"\n",
        "str2=\"World\"\n",
        "temp=\"\"\n",
        "for ch in str1:\n",
        "  temp+=ch\n",
        "temp+=\" \"\n",
        "for ch in str2:\n",
        "  temp+=ch\n",
        "temp"
      ],
      "metadata": {
        "colab": {
          "base_uri": "https://localhost:8080/",
          "height": 35
        },
        "id": "CBBVhBlKrBic",
        "outputId": "e69f7191-c3d4-427f-fa68-969175b4092c"
      },
      "execution_count": 12,
      "outputs": [
        {
          "output_type": "execute_result",
          "data": {
            "text/plain": [
              "'Hello World'"
            ],
            "application/vnd.google.colaboratory.intrinsic+json": {
              "type": "string"
            }
          },
          "metadata": {},
          "execution_count": 12
        }
      ]
    },
    {
      "cell_type": "code",
      "source": [
        "x=str1[0:]+\" \"+str2[0:]\n",
        "x"
      ],
      "metadata": {
        "colab": {
          "base_uri": "https://localhost:8080/",
          "height": 35
        },
        "id": "KXGOd8cirmfW",
        "outputId": "71bb7e0a-996b-4c2c-f5af-57cd4a7c2538"
      },
      "execution_count": 13,
      "outputs": [
        {
          "output_type": "execute_result",
          "data": {
            "text/plain": [
              "'Hello World'"
            ],
            "application/vnd.google.colaboratory.intrinsic+json": {
              "type": "string"
            }
          },
          "metadata": {},
          "execution_count": 13
        }
      ]
    },
    {
      "cell_type": "markdown",
      "source": [
        "Ques 11."
      ],
      "metadata": {
        "id": "0rTLbCi2qTOX"
      }
    },
    {
      "cell_type": "code",
      "source": [
        "l=[1,2,3,1,1,1,1,3,4,2,2,3,4,6,7788,6,4,223,34,556,77,812092,102,182992,182082,1]\n",
        "x=1\n",
        "while x in l:\n",
        "  l.remove(x)\n",
        "print(l)"
      ],
      "metadata": {
        "colab": {
          "base_uri": "https://localhost:8080/"
        },
        "id": "PMOtxm_uj5jD",
        "outputId": "1feafd40-0cb7-4d23-dd18-3f96389021ae"
      },
      "execution_count": 9,
      "outputs": [
        {
          "output_type": "stream",
          "name": "stdout",
          "text": [
            "[2, 3, 3, 4, 2, 2, 3, 4, 6, 7788, 6, 4, 223, 34, 556, 77, 812092, 102, 182992, 182082]\n"
          ]
        }
      ]
    },
    {
      "cell_type": "markdown",
      "source": [],
      "metadata": {
        "id": "7CQ6UWe6q6rY"
      }
    },
    {
      "cell_type": "markdown",
      "source": [
        "Ques 12."
      ],
      "metadata": {
        "id": "fr15pxslp8d3"
      }
    },
    {
      "cell_type": "code",
      "source": [
        "l=[1,2,5,8,9,10,198,8989,767,90,88]\n",
        "l=sorted(l)\n",
        "for i in l:\n",
        "  print(i)\n",
        "print(\"Second largest element: \", l[-2])\n"
      ],
      "metadata": {
        "colab": {
          "base_uri": "https://localhost:8080/"
        },
        "id": "biv7niWXj54e",
        "outputId": "574fe3f7-f089-4a07-e2c4-ffa66ebf33d6"
      },
      "execution_count": 8,
      "outputs": [
        {
          "output_type": "stream",
          "name": "stdout",
          "text": [
            "1\n",
            "2\n",
            "5\n",
            "8\n",
            "9\n",
            "10\n",
            "88\n",
            "90\n",
            "198\n",
            "767\n",
            "8989\n",
            "Second largest element:  767\n"
          ]
        }
      ]
    },
    {
      "cell_type": "markdown",
      "source": [
        "Ques 13."
      ],
      "metadata": {
        "id": "ypn7AbD5pEkU"
      }
    },
    {
      "cell_type": "code",
      "source": [
        "l=[1,2,3,4,1,2,3,1,1,1,2,3,3,3,190]\n",
        "dict1={}\n",
        "for i in l:\n",
        "  if i in dict1.keys():\n",
        "    dict1[i]+=1\n",
        "  else:\n",
        "    dict1[i]=1\n",
        "dict1\n"
      ],
      "metadata": {
        "colab": {
          "base_uri": "https://localhost:8080/"
        },
        "id": "ztK9Z3O7j6AO",
        "outputId": "367fef2e-1aad-495b-820d-31d83b83b632"
      },
      "execution_count": 1,
      "outputs": [
        {
          "output_type": "execute_result",
          "data": {
            "text/plain": [
              "{1: 5, 2: 3, 3: 5, 4: 1, 190: 1}"
            ]
          },
          "metadata": {},
          "execution_count": 1
        }
      ]
    },
    {
      "cell_type": "markdown",
      "source": [
        "Ques 14.\n"
      ],
      "metadata": {
        "id": "9MyCQZHhr5AB"
      }
    },
    {
      "cell_type": "code",
      "source": [
        "l=[335,92,102,1882,1882,192,281,21,3,4,5,1901,28]\n",
        "i=0\n",
        "j=len(l)-1\n",
        "while i<=j:\n",
        "  l[i],l[j]=l[j],l[i]\n",
        "  i+=1\n",
        "  j-=1\n",
        "l\n"
      ],
      "metadata": {
        "colab": {
          "base_uri": "https://localhost:8080/"
        },
        "id": "YRYAgyd5r7Eo",
        "outputId": "bb5cbbd1-9bad-47cf-e68a-e90c8cb8d21d"
      },
      "execution_count": 14,
      "outputs": [
        {
          "output_type": "execute_result",
          "data": {
            "text/plain": [
              "[28, 1901, 5, 4, 3, 21, 281, 192, 1882, 1882, 102, 92, 335]"
            ]
          },
          "metadata": {},
          "execution_count": 14
        }
      ]
    },
    {
      "cell_type": "markdown",
      "source": [],
      "metadata": {
        "id": "4R0zkrgxsXZO"
      }
    }
  ]
}